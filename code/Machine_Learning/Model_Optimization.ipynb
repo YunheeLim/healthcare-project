{
 "cells": [
  {
   "cell_type": "markdown",
   "id": "e2ca9438-7ca0-4d89-84aa-a2319ae35dcb",
   "metadata": {},
   "source": [
    "# [Model Optimization]\n",
    "\n",
    "In this notebook, user can search the optimal hyperprameter for each machine learning algorithms using GridSearchCV.\n",
    "\n",
    "Machine Learning Algorithms searched are follow:\n",
    "\n",
    "- Extemely Randomized Tree Regressor (Extra Tree Regressor)\n",
    "- RandomForest Regressor\n",
    "- XGBoost Regressor"
   ]
  },
  {
   "cell_type": "markdown",
   "id": "7cb94a8c-c087-4b4e-bc6c-119aee3509ad",
   "metadata": {},
   "source": [
    "## Import Library"
   ]
  },
  {
   "cell_type": "code",
   "execution_count": 1,
   "id": "368c8a88-46e3-4e43-8f7e-9bd5fed83bd5",
   "metadata": {
    "tags": []
   },
   "outputs": [],
   "source": [
    "import numpy as np\n",
    "import matplotlib.pyplot as plt\n",
    "import random\n",
    "import pandas as pd\n",
    "from datetime import datetime\n",
    "import pickle"
   ]
  },
  {
   "cell_type": "code",
   "execution_count": 2,
   "id": "fc77f2e6-db10-43b5-ab0e-31e4ddb21bdb",
   "metadata": {
    "tags": []
   },
   "outputs": [],
   "source": [
    "from sklearn.model_selection import train_test_split\n",
    "from sklearn.model_selection import StratifiedKFold\n",
    "from sklearn.model_selection import KFold\n",
    "from sklearn.preprocessing import MinMaxScaler\n",
    "from sklearn.metrics import mean_squared_error\n",
    "from math import sqrt\n",
    "from sklearn.metrics import r2_score\n",
    "from sklearn.metrics import mean_absolute_error\n",
    "from xgboost import plot_tree\n",
    "\n",
    "from sklearn.model_selection import GridSearchCV\n",
    "from sklearn.model_selection import RandomizedSearchCV"
   ]
  },
  {
   "cell_type": "code",
   "execution_count": 3,
   "id": "eae9cf61-824d-498f-a265-73946ef237c0",
   "metadata": {
    "tags": []
   },
   "outputs": [],
   "source": [
    "# import machine learning algorithms\n",
    "\n",
    "from sklearn.ensemble import ExtraTreesRegressor\n",
    "from sklearn.ensemble import RandomForestRegressor\n",
    "import xgboost as xg"
   ]
  },
  {
   "cell_type": "markdown",
   "id": "326a76f6-569b-4391-ae7f-def20fb967cc",
   "metadata": {},
   "source": [
    "---\n",
    "## Data Load"
   ]
  },
  {
   "cell_type": "code",
   "execution_count": 4,
   "id": "5f8a9d76-9eba-4a74-9abf-ee80da462f2b",
   "metadata": {
    "tags": []
   },
   "outputs": [],
   "source": [
    "# set the route for dataset\n",
    "# route = \"./2023_KSW_Fall_program_final_team_HoT/4+6_Imputation+5_Feature_Scaling(final_dataset).csv\"\n",
    "\n",
    "route = \"./Dataset/2023_KSW_Fall_program_final_team_HoT/4+6_Imputation+5_Feature_Scaling(final_dataset).csv\"\n",
    "\n",
    "# set ratio for splitting train/test dataset\n",
    "test_size = 0.33\n",
    "shuffle = True\n",
    "\n",
    "# set the K for cross-validation\n",
    "k_splits = 5"
   ]
  },
  {
   "cell_type": "code",
   "execution_count": 5,
   "id": "a69334b2-e777-4a91-bb94-06d6ddd8d0ec",
   "metadata": {
    "tags": []
   },
   "outputs": [],
   "source": [
    "# data_load function for preparing dataset\n",
    "# user can remove the specific feature by setting remove_list parameter\n",
    "\n",
    "def data_loader(route, remove_list):\n",
    "    # load dataset from route user set above\n",
    "    original_data = pd.read_csv(route, encoding='unicode_escape')\n",
    "    \n",
    "    # drop index\n",
    "    original_data = original_data.drop(original_data.columns[0], axis=1)\n",
    "    \n",
    "    # drop timestamps (depending on dataset, there is timestamp column)\n",
    "    # original_data = original_data.drop(original_data.columns[0], axis=1)\n",
    "\n",
    "    # drop features in remove_list\n",
    "    for i in remove_list:\n",
    "        original_data = original_data.drop([i], axis=1)\n",
    "    \n",
    "    # drop Nan values - feature by feature\n",
    "    original_data = original_data.dropna()\n",
    "    \n",
    "    # check data shape\n",
    "    print(original_data.shape)\n",
    "    \n",
    "    # set x, y dataset\n",
    "    # y is the SP ratio, which is the target\n",
    "    y = original_data[['SP ratio']].squeeze().to_numpy()\n",
    "    x = original_data.drop(['SP ratio'], axis=1).to_numpy()\n",
    "    \n",
    "    return x, y"
   ]
  },
  {
   "cell_type": "code",
   "execution_count": 6,
   "id": "91aa4ebb-3fe2-4a0e-a01a-8ecbf3835369",
   "metadata": {
    "tags": []
   },
   "outputs": [
    {
     "name": "stdout",
     "output_type": "stream",
     "text": [
      "(12358, 7)\n"
     ]
    }
   ],
   "source": [
    "# make a list to remove features in dataset as selected through dataset selection part\n",
    "# what features are used : hr, hrv, BM, sleep, eda, temperature\n",
    "\n",
    "removed_features = ['alpha_wave', 'beta_wave', 'theta_wave', 'delta_wave', 'gamma_wave', 'attention', 'coherence']\n",
    "x, y = data_loader(route, removed_features)"
   ]
  },
  {
   "cell_type": "code",
   "execution_count": 7,
   "id": "21462918-1bb5-46e0-bd85-478fb5799a1e",
   "metadata": {
    "tags": []
   },
   "outputs": [],
   "source": [
    "# Split train dataset, test dataset\n",
    "\n",
    "X_train, X_test, y_train, y_test = train_test_split(x, y, test_size = test_size, shuffle = shuffle)"
   ]
  },
  {
   "cell_type": "markdown",
   "id": "77ec8fec-51ff-4bf2-81e1-97b9c4ec03c2",
   "metadata": {},
   "source": [
    "---\n",
    "## Model Define"
   ]
  },
  {
   "cell_type": "code",
   "execution_count": 8,
   "id": "0fc226ee-eff7-49b2-bb05-72d6fb73966e",
   "metadata": {
    "tags": []
   },
   "outputs": [],
   "source": [
    "# Extra Tree Regressor\n",
    "etr = ExtraTreesRegressor()\n",
    "\n",
    "# RandomForest Regressor\n",
    "rf = RandomForestRegressor()\n",
    "\n",
    "# XGBoost Regressor\n",
    "xgbr = xg.XGBRegressor() "
   ]
  },
  {
   "cell_type": "markdown",
   "id": "4638c100-e6ef-4996-8809-789785a7d2c0",
   "metadata": {
    "tags": []
   },
   "source": [
    "---\n",
    "## Hyperparameters Combination"
   ]
  },
  {
   "cell_type": "markdown",
   "id": "68ce0e59-18e8-44ac-a29a-0d4c528c7066",
   "metadata": {},
   "source": [
    "#### 1) Searching hyperparameter for each algorithm\n",
    "#### 2) Setting avaliable hyperparameter candidates"
   ]
  },
  {
   "cell_type": "code",
   "execution_count": 9,
   "id": "629f2466-da8f-440a-aa86-3e59479ff5d3",
   "metadata": {},
   "outputs": [
    {
     "name": "stdout",
     "output_type": "stream",
     "text": [
      "{'bootstrap': False, 'ccp_alpha': 0.0, 'criterion': 'squared_error', 'max_depth': None, 'max_features': 1.0, 'max_leaf_nodes': None, 'max_samples': None, 'min_impurity_decrease': 0.0, 'min_samples_leaf': 1, 'min_samples_split': 2, 'min_weight_fraction_leaf': 0.0, 'n_estimators': 100, 'n_jobs': None, 'oob_score': False, 'random_state': None, 'verbose': 0, 'warm_start': False}\n"
     ]
    }
   ],
   "source": [
    "# check what kinds of hyperparameters etr have\n",
    "\n",
    "print(etr.get_params())"
   ]
  },
  {
   "cell_type": "code",
   "execution_count": 10,
   "id": "30f0d21e-0216-4863-934c-821fbeb63af0",
   "metadata": {},
   "outputs": [],
   "source": [
    "# hyperparameter combination for extra tree regressor\n",
    "\n",
    "etr_param_grid = {\n",
    "                    'criterion' : ['squared_error', 'friedman_mse'],\n",
    "                    'n_estimators': [250, 300, 350, 400],\n",
    "                    'max_features': [1.0],\n",
    "                    'max_depth': [None, 30],\n",
    "                    'min_samples_split': [2, 3, 5]\n",
    "                 }"
   ]
  },
  {
   "cell_type": "code",
   "execution_count": 11,
   "id": "432b3d61-3db8-45e2-b093-64e40ee40d4f",
   "metadata": {},
   "outputs": [
    {
     "name": "stdout",
     "output_type": "stream",
     "text": [
      "{'bootstrap': True, 'ccp_alpha': 0.0, 'criterion': 'squared_error', 'max_depth': None, 'max_features': 1.0, 'max_leaf_nodes': None, 'max_samples': None, 'min_impurity_decrease': 0.0, 'min_samples_leaf': 1, 'min_samples_split': 2, 'min_weight_fraction_leaf': 0.0, 'n_estimators': 100, 'n_jobs': None, 'oob_score': False, 'random_state': None, 'verbose': 0, 'warm_start': False}\n"
     ]
    }
   ],
   "source": [
    "# check what kinds of hyperparameters rf have\n",
    "\n",
    "print(rf.get_params())"
   ]
  },
  {
   "cell_type": "code",
   "execution_count": 12,
   "id": "30081c44-ac6a-4021-bf0d-7f61995d297d",
   "metadata": {
    "tags": []
   },
   "outputs": [],
   "source": [
    "# hyperparameter combination for randomforest regressor\n",
    "\n",
    "rf_param_grid = {  \n",
    "                    'criterion' : ['squared_error','absolute_error','friedman_mse'],\n",
    "                    'n_estimators': [200, 250, 300, 350, 400],\n",
    "                    'max_features': ['sqrt', 'log2', 1.0],\n",
    "                    'max_depth': [None, 30],\n",
    "                    'min_samples_split': [2, 5, 10]\n",
    "                }"
   ]
  },
  {
   "cell_type": "code",
   "execution_count": 13,
   "id": "54dd10e0-a0a4-4ad2-a585-10ae550b9fd1",
   "metadata": {},
   "outputs": [
    {
     "name": "stdout",
     "output_type": "stream",
     "text": [
      "{'objective': 'reg:squarederror', 'base_score': None, 'booster': None, 'callbacks': None, 'colsample_bylevel': None, 'colsample_bynode': None, 'colsample_bytree': None, 'early_stopping_rounds': None, 'enable_categorical': False, 'eval_metric': None, 'feature_types': None, 'gamma': None, 'gpu_id': None, 'grow_policy': None, 'importance_type': None, 'interaction_constraints': None, 'learning_rate': None, 'max_bin': None, 'max_cat_threshold': None, 'max_cat_to_onehot': None, 'max_delta_step': None, 'max_depth': None, 'max_leaves': None, 'min_child_weight': None, 'missing': nan, 'monotone_constraints': None, 'n_estimators': 100, 'n_jobs': None, 'num_parallel_tree': None, 'predictor': None, 'random_state': None, 'reg_alpha': None, 'reg_lambda': None, 'sampling_method': None, 'scale_pos_weight': None, 'subsample': None, 'tree_method': None, 'validate_parameters': None, 'verbosity': None}\n"
     ]
    }
   ],
   "source": [
    "# check what kinds of hyperparameters xgbr have\n",
    "\n",
    "print(xgbr.get_params())"
   ]
  },
  {
   "cell_type": "code",
   "execution_count": 19,
   "id": "077f9e5f-8ba0-4086-acc5-e653b0f235e9",
   "metadata": {
    "tags": []
   },
   "outputs": [],
   "source": [
    "# hyperparameter combination for randomforest regressor\n",
    "\n",
    "xgbr_param_grid = {\n",
    "                   'eta' : [0.01, 0.05, 0.1, 0.3],\n",
    "                   'n_estimators' : [50, 100, 150, 200],\n",
    "                   'max_depth' : [3, 6, 8, 10],\n",
    "                   'lambda' : [0.5, 0.7, 0.9, 1.0, 1.3, 1.5],\n",
    "                   'eval_metric' : ['rmse', 'mae', 'mape']\n",
    "                 }"
   ]
  },
  {
   "cell_type": "markdown",
   "id": "7dddf287-f2b9-41df-af8c-0e9b5ee0b814",
   "metadata": {},
   "source": [
    "---\n",
    "## Searching Optimal Hyperparameters"
   ]
  },
  {
   "cell_type": "markdown",
   "id": "7ed2889e-058e-42bc-bca7-b41e03795dd2",
   "metadata": {
    "tags": []
   },
   "source": [
    "#### RandomizedSearchCV\n",
    "\n",
    "hyperparameter optimization technique in machine learning. <br>\n",
    "performing a random search over specified hyperparameter values to find the optimal configuration for a model.\n",
    "\n",
    "But in this case, use GridSearchCV instead of using RandomizedSearchCV"
   ]
  },
  {
   "cell_type": "code",
   "execution_count": 15,
   "id": "bac3579d-610d-4a27-9c5c-e0d2f096555e",
   "metadata": {
    "tags": []
   },
   "outputs": [],
   "source": [
    "# grid_rf_rd = RandomizedSearchCV(rf, param_distributions=param_grid, n_iter = 100, cv = k_splits, scoring = 'r2')\n",
    "# grid_rf_rd.fit(X_train, y_train)"
   ]
  },
  {
   "cell_type": "code",
   "execution_count": 16,
   "id": "a4849c75-a6f7-47b9-a807-2f7703238e32",
   "metadata": {
    "tags": []
   },
   "outputs": [],
   "source": [
    "# result = pd.DataFrame(grid_rf_rd.cv_results_)\n",
    "\n",
    "# display(result[['params','r2_score']].sort_values(by='r2_score',ascending= False))\n",
    "\n",
    "# print('--' * 40)\n",
    "\n",
    "# print(grid_rf_rd.best_params_) # Optimized parameter print"
   ]
  },
  {
   "cell_type": "markdown",
   "id": "47892c09-bb3c-40d1-a256-0b6d5b630e7f",
   "metadata": {
    "tags": []
   },
   "source": [
    "#### GridSearchCV\n",
    "\n",
    "the hyperparameter optimization tool provided by the Scikit-learn library\n",
    "\n",
    "It takes long time"
   ]
  },
  {
   "cell_type": "markdown",
   "id": "6798cf6d-a23e-4b62-8805-a38a5174398c",
   "metadata": {
    "tags": []
   },
   "source": [
    "##### 1) Extra Tree Regressor Optimization"
   ]
  },
  {
   "cell_type": "code",
   "execution_count": null,
   "id": "2e8c05c2-63de-4c33-846f-6df1cd825c21",
   "metadata": {
    "tags": []
   },
   "outputs": [],
   "source": [
    "# create GridSearchCV object for etr\n",
    "\n",
    "grid_etr = GridSearchCV(estimator=etr, param_grid=etr_param_grid, scoring='r2', verbose=1, cv=k_splits, n_jobs=-1)\n",
    "grid_etr.fit(X_train,y_train)"
   ]
  },
  {
   "cell_type": "markdown",
   "id": "c73ebb72-4b1b-477b-82a6-5716613b2ac7",
   "metadata": {
    "tags": []
   },
   "source": [
    "##### 2) RandomForest Regressor Optimization"
   ]
  },
  {
   "cell_type": "code",
   "execution_count": null,
   "id": "e89283a7-46c2-418b-a690-2683e524d3a1",
   "metadata": {
    "tags": []
   },
   "outputs": [],
   "source": [
    "# create GridSearchCV object for rf\n",
    "\n",
    "grid_rf = GridSearchCV(estimator=rf, param_grid=rf_param_grid, scoring='r2', verbose=1, cv=k_splits, n_jobs=-1)\n",
    "grid_rf.fit(X_train,y_train)"
   ]
  },
  {
   "cell_type": "markdown",
   "id": "7d754ce3-b2df-4f2c-b313-7b217a3558a9",
   "metadata": {
    "tags": []
   },
   "source": [
    "##### 3) XGBoost Regressor Optimization"
   ]
  },
  {
   "cell_type": "code",
   "execution_count": null,
   "id": "1c7f9b0f-6cbc-4565-bdb5-e350c9d6489f",
   "metadata": {
    "tags": []
   },
   "outputs": [],
   "source": [
    "# create GridSearchCV object for xgbr\n",
    "\n",
    "grid_xgbr = GridSearchCV(estimator=xgbr, param_grid=xgbr_param_grid, scoring='r2', verbose=1, cv=k_splits, n_jobs=-1)\n",
    "grid_xgbr.fit(X_train,y_train)"
   ]
  },
  {
   "cell_type": "markdown",
   "id": "cf89b7f6-18c6-437e-b36a-8f93fdb5599a",
   "metadata": {},
   "source": [
    "### Result of Optimization"
   ]
  },
  {
   "cell_type": "code",
   "execution_count": 33,
   "id": "7e51374b-1771-484b-b832-504d2ccc94cb",
   "metadata": {},
   "outputs": [],
   "source": [
    "def show_result(grid_object):\n",
    "    # get the result as a DataFrame format\n",
    "    result = pd.DataFrame(grid_object.cv_results_).loc[:10]\n",
    "    \n",
    "    # show the result according to the order\n",
    "    display(result[['params','mean_test_score']].sort_values(by = 'mean_test_score',ascending= False))\n",
    "\n",
    "    print('--' * 40)\n",
    "    \n",
    "    # Optimized parameter print\n",
    "    print(grid_object.best_params_) "
   ]
  },
  {
   "cell_type": "code",
   "execution_count": 34,
   "id": "f0b27958-fc97-4f62-8557-a3a95aa923b9",
   "metadata": {
    "tags": []
   },
   "outputs": [
    {
     "data": {
      "text/html": [
       "<div>\n",
       "<style scoped>\n",
       "    .dataframe tbody tr th:only-of-type {\n",
       "        vertical-align: middle;\n",
       "    }\n",
       "\n",
       "    .dataframe tbody tr th {\n",
       "        vertical-align: top;\n",
       "    }\n",
       "\n",
       "    .dataframe thead th {\n",
       "        text-align: right;\n",
       "    }\n",
       "</style>\n",
       "<table border=\"1\" class=\"dataframe\">\n",
       "  <thead>\n",
       "    <tr style=\"text-align: right;\">\n",
       "      <th></th>\n",
       "      <th>params</th>\n",
       "      <th>mean_test_score</th>\n",
       "    </tr>\n",
       "  </thead>\n",
       "  <tbody>\n",
       "    <tr>\n",
       "      <th>0</th>\n",
       "      <td>{'criterion': 'squared_error', 'max_depth': No...</td>\n",
       "      <td>0.860778</td>\n",
       "    </tr>\n",
       "    <tr>\n",
       "      <th>2</th>\n",
       "      <td>{'criterion': 'squared_error', 'max_depth': No...</td>\n",
       "      <td>0.860731</td>\n",
       "    </tr>\n",
       "    <tr>\n",
       "      <th>3</th>\n",
       "      <td>{'criterion': 'squared_error', 'max_depth': No...</td>\n",
       "      <td>0.860524</td>\n",
       "    </tr>\n",
       "    <tr>\n",
       "      <th>1</th>\n",
       "      <td>{'criterion': 'squared_error', 'max_depth': No...</td>\n",
       "      <td>0.860387</td>\n",
       "    </tr>\n",
       "    <tr>\n",
       "      <th>6</th>\n",
       "      <td>{'criterion': 'squared_error', 'max_depth': No...</td>\n",
       "      <td>0.859080</td>\n",
       "    </tr>\n",
       "    <tr>\n",
       "      <th>5</th>\n",
       "      <td>{'criterion': 'squared_error', 'max_depth': No...</td>\n",
       "      <td>0.858291</td>\n",
       "    </tr>\n",
       "    <tr>\n",
       "      <th>7</th>\n",
       "      <td>{'criterion': 'squared_error', 'max_depth': No...</td>\n",
       "      <td>0.858207</td>\n",
       "    </tr>\n",
       "    <tr>\n",
       "      <th>4</th>\n",
       "      <td>{'criterion': 'squared_error', 'max_depth': No...</td>\n",
       "      <td>0.857820</td>\n",
       "    </tr>\n",
       "    <tr>\n",
       "      <th>10</th>\n",
       "      <td>{'criterion': 'squared_error', 'max_depth': No...</td>\n",
       "      <td>0.850588</td>\n",
       "    </tr>\n",
       "    <tr>\n",
       "      <th>8</th>\n",
       "      <td>{'criterion': 'squared_error', 'max_depth': No...</td>\n",
       "      <td>0.850554</td>\n",
       "    </tr>\n",
       "    <tr>\n",
       "      <th>9</th>\n",
       "      <td>{'criterion': 'squared_error', 'max_depth': No...</td>\n",
       "      <td>0.850449</td>\n",
       "    </tr>\n",
       "  </tbody>\n",
       "</table>\n",
       "</div>"
      ],
      "text/plain": [
       "                                               params  mean_test_score\n",
       "0   {'criterion': 'squared_error', 'max_depth': No...         0.860778\n",
       "2   {'criterion': 'squared_error', 'max_depth': No...         0.860731\n",
       "3   {'criterion': 'squared_error', 'max_depth': No...         0.860524\n",
       "1   {'criterion': 'squared_error', 'max_depth': No...         0.860387\n",
       "6   {'criterion': 'squared_error', 'max_depth': No...         0.859080\n",
       "5   {'criterion': 'squared_error', 'max_depth': No...         0.858291\n",
       "7   {'criterion': 'squared_error', 'max_depth': No...         0.858207\n",
       "4   {'criterion': 'squared_error', 'max_depth': No...         0.857820\n",
       "10  {'criterion': 'squared_error', 'max_depth': No...         0.850588\n",
       "8   {'criterion': 'squared_error', 'max_depth': No...         0.850554\n",
       "9   {'criterion': 'squared_error', 'max_depth': No...         0.850449"
      ]
     },
     "metadata": {},
     "output_type": "display_data"
    },
    {
     "name": "stdout",
     "output_type": "stream",
     "text": [
      "--------------------------------------------------------------------------------\n",
      "{'criterion': 'friedman_mse', 'max_depth': 30, 'max_features': 1.0, 'min_samples_split': 2, 'n_estimators': 400}\n"
     ]
    }
   ],
   "source": [
    "# Optimization result for Extra Tree Regressor\n",
    "\n",
    "show_result(grid_etr)"
   ]
  },
  {
   "cell_type": "code",
   "execution_count": 35,
   "id": "f763eff8-067f-433a-8490-1e7382166c66",
   "metadata": {
    "tags": []
   },
   "outputs": [
    {
     "data": {
      "text/html": [
       "<div>\n",
       "<style scoped>\n",
       "    .dataframe tbody tr th:only-of-type {\n",
       "        vertical-align: middle;\n",
       "    }\n",
       "\n",
       "    .dataframe tbody tr th {\n",
       "        vertical-align: top;\n",
       "    }\n",
       "\n",
       "    .dataframe thead th {\n",
       "        text-align: right;\n",
       "    }\n",
       "</style>\n",
       "<table border=\"1\" class=\"dataframe\">\n",
       "  <thead>\n",
       "    <tr style=\"text-align: right;\">\n",
       "      <th></th>\n",
       "      <th>params</th>\n",
       "      <th>mean_test_score</th>\n",
       "    </tr>\n",
       "  </thead>\n",
       "  <tbody>\n",
       "    <tr>\n",
       "      <th>5</th>\n",
       "      <td>{'criterion': 'squared_error', 'max_depth': No...</td>\n",
       "      <td>0.829332</td>\n",
       "    </tr>\n",
       "    <tr>\n",
       "      <th>1</th>\n",
       "      <td>{'criterion': 'squared_error', 'max_depth': No...</td>\n",
       "      <td>0.829235</td>\n",
       "    </tr>\n",
       "    <tr>\n",
       "      <th>6</th>\n",
       "      <td>{'criterion': 'squared_error', 'max_depth': 30...</td>\n",
       "      <td>0.829184</td>\n",
       "    </tr>\n",
       "    <tr>\n",
       "      <th>2</th>\n",
       "      <td>{'criterion': 'squared_error', 'max_depth': No...</td>\n",
       "      <td>0.828687</td>\n",
       "    </tr>\n",
       "    <tr>\n",
       "      <th>4</th>\n",
       "      <td>{'criterion': 'squared_error', 'max_depth': No...</td>\n",
       "      <td>0.828444</td>\n",
       "    </tr>\n",
       "    <tr>\n",
       "      <th>9</th>\n",
       "      <td>{'criterion': 'squared_error', 'max_depth': 30...</td>\n",
       "      <td>0.828164</td>\n",
       "    </tr>\n",
       "    <tr>\n",
       "      <th>0</th>\n",
       "      <td>{'criterion': 'squared_error', 'max_depth': No...</td>\n",
       "      <td>0.828112</td>\n",
       "    </tr>\n",
       "    <tr>\n",
       "      <th>7</th>\n",
       "      <td>{'criterion': 'squared_error', 'max_depth': 30...</td>\n",
       "      <td>0.828109</td>\n",
       "    </tr>\n",
       "    <tr>\n",
       "      <th>10</th>\n",
       "      <td>{'criterion': 'squared_error', 'max_depth': 30...</td>\n",
       "      <td>0.828010</td>\n",
       "    </tr>\n",
       "    <tr>\n",
       "      <th>3</th>\n",
       "      <td>{'criterion': 'squared_error', 'max_depth': No...</td>\n",
       "      <td>0.827970</td>\n",
       "    </tr>\n",
       "    <tr>\n",
       "      <th>8</th>\n",
       "      <td>{'criterion': 'squared_error', 'max_depth': 30...</td>\n",
       "      <td>0.827957</td>\n",
       "    </tr>\n",
       "  </tbody>\n",
       "</table>\n",
       "</div>"
      ],
      "text/plain": [
       "                                               params  mean_test_score\n",
       "5   {'criterion': 'squared_error', 'max_depth': No...         0.829332\n",
       "1   {'criterion': 'squared_error', 'max_depth': No...         0.829235\n",
       "6   {'criterion': 'squared_error', 'max_depth': 30...         0.829184\n",
       "2   {'criterion': 'squared_error', 'max_depth': No...         0.828687\n",
       "4   {'criterion': 'squared_error', 'max_depth': No...         0.828444\n",
       "9   {'criterion': 'squared_error', 'max_depth': 30...         0.828164\n",
       "0   {'criterion': 'squared_error', 'max_depth': No...         0.828112\n",
       "7   {'criterion': 'squared_error', 'max_depth': 30...         0.828109\n",
       "10  {'criterion': 'squared_error', 'max_depth': 30...         0.828010\n",
       "3   {'criterion': 'squared_error', 'max_depth': No...         0.827970\n",
       "8   {'criterion': 'squared_error', 'max_depth': 30...         0.827957"
      ]
     },
     "metadata": {},
     "output_type": "display_data"
    },
    {
     "name": "stdout",
     "output_type": "stream",
     "text": [
      "--------------------------------------------------------------------------------\n",
      "{'criterion': 'friedman_mse', 'max_depth': 30, 'max_features': 'log2', 'min_samples_split': 2, 'n_estimators': 200}\n"
     ]
    }
   ],
   "source": [
    "# Optimization result for RandomForest Regressor\n",
    "\n",
    "show_result(grid_rf)"
   ]
  },
  {
   "cell_type": "code",
   "execution_count": 36,
   "id": "b61502b4-55c5-45db-8f8f-e6cb1906af16",
   "metadata": {
    "tags": []
   },
   "outputs": [
    {
     "data": {
      "text/html": [
       "<div>\n",
       "<style scoped>\n",
       "    .dataframe tbody tr th:only-of-type {\n",
       "        vertical-align: middle;\n",
       "    }\n",
       "\n",
       "    .dataframe tbody tr th {\n",
       "        vertical-align: top;\n",
       "    }\n",
       "\n",
       "    .dataframe thead th {\n",
       "        text-align: right;\n",
       "    }\n",
       "</style>\n",
       "<table border=\"1\" class=\"dataframe\">\n",
       "  <thead>\n",
       "    <tr style=\"text-align: right;\">\n",
       "      <th></th>\n",
       "      <th>params</th>\n",
       "      <th>mean_test_score</th>\n",
       "    </tr>\n",
       "  </thead>\n",
       "  <tbody>\n",
       "    <tr>\n",
       "      <th>8</th>\n",
       "      <td>{'eta': 0.1, 'eval_metric': 'rmse', 'lambda': ...</td>\n",
       "      <td>0.818775</td>\n",
       "    </tr>\n",
       "    <tr>\n",
       "      <th>7</th>\n",
       "      <td>{'eta': 0.1, 'eval_metric': 'rmse', 'lambda': ...</td>\n",
       "      <td>0.816667</td>\n",
       "    </tr>\n",
       "    <tr>\n",
       "      <th>6</th>\n",
       "      <td>{'eta': 0.1, 'eval_metric': 'rmse', 'lambda': ...</td>\n",
       "      <td>0.813266</td>\n",
       "    </tr>\n",
       "    <tr>\n",
       "      <th>5</th>\n",
       "      <td>{'eta': 0.1, 'eval_metric': 'rmse', 'lambda': ...</td>\n",
       "      <td>0.789590</td>\n",
       "    </tr>\n",
       "    <tr>\n",
       "      <th>4</th>\n",
       "      <td>{'eta': 0.1, 'eval_metric': 'rmse', 'lambda': ...</td>\n",
       "      <td>0.780838</td>\n",
       "    </tr>\n",
       "    <tr>\n",
       "      <th>3</th>\n",
       "      <td>{'eta': 0.1, 'eval_metric': 'rmse', 'lambda': ...</td>\n",
       "      <td>0.768514</td>\n",
       "    </tr>\n",
       "    <tr>\n",
       "      <th>2</th>\n",
       "      <td>{'eta': 0.1, 'eval_metric': 'rmse', 'lambda': ...</td>\n",
       "      <td>0.650676</td>\n",
       "    </tr>\n",
       "    <tr>\n",
       "      <th>1</th>\n",
       "      <td>{'eta': 0.1, 'eval_metric': 'rmse', 'lambda': ...</td>\n",
       "      <td>0.631856</td>\n",
       "    </tr>\n",
       "    <tr>\n",
       "      <th>10</th>\n",
       "      <td>{'eta': 0.1, 'eval_metric': 'rmse', 'lambda': ...</td>\n",
       "      <td>0.629960</td>\n",
       "    </tr>\n",
       "    <tr>\n",
       "      <th>0</th>\n",
       "      <td>{'eta': 0.1, 'eval_metric': 'rmse', 'lambda': ...</td>\n",
       "      <td>0.603985</td>\n",
       "    </tr>\n",
       "    <tr>\n",
       "      <th>9</th>\n",
       "      <td>{'eta': 0.1, 'eval_metric': 'rmse', 'lambda': ...</td>\n",
       "      <td>0.601130</td>\n",
       "    </tr>\n",
       "  </tbody>\n",
       "</table>\n",
       "</div>"
      ],
      "text/plain": [
       "                                               params  mean_test_score\n",
       "8   {'eta': 0.1, 'eval_metric': 'rmse', 'lambda': ...         0.818775\n",
       "7   {'eta': 0.1, 'eval_metric': 'rmse', 'lambda': ...         0.816667\n",
       "6   {'eta': 0.1, 'eval_metric': 'rmse', 'lambda': ...         0.813266\n",
       "5   {'eta': 0.1, 'eval_metric': 'rmse', 'lambda': ...         0.789590\n",
       "4   {'eta': 0.1, 'eval_metric': 'rmse', 'lambda': ...         0.780838\n",
       "3   {'eta': 0.1, 'eval_metric': 'rmse', 'lambda': ...         0.768514\n",
       "2   {'eta': 0.1, 'eval_metric': 'rmse', 'lambda': ...         0.650676\n",
       "1   {'eta': 0.1, 'eval_metric': 'rmse', 'lambda': ...         0.631856\n",
       "10  {'eta': 0.1, 'eval_metric': 'rmse', 'lambda': ...         0.629960\n",
       "0   {'eta': 0.1, 'eval_metric': 'rmse', 'lambda': ...         0.603985\n",
       "9   {'eta': 0.1, 'eval_metric': 'rmse', 'lambda': ...         0.601130"
      ]
     },
     "metadata": {},
     "output_type": "display_data"
    },
    {
     "name": "stdout",
     "output_type": "stream",
     "text": [
      "--------------------------------------------------------------------------------\n",
      "{'eta': 0.1, 'eval_metric': 'rmse', 'lambda': 1.0, 'max_depth': 9, 'n_estimators': 250}\n"
     ]
    }
   ],
   "source": [
    "# Optimization result for XGBoost Regressor\n",
    "\n",
    "show_result(grid_xgbr)"
   ]
  },
  {
   "cell_type": "markdown",
   "id": "e74c022b-fcda-41c4-ab25-d043aae8fe69",
   "metadata": {},
   "source": [
    "---\n",
    "## Evaluation with Test dataset\n",
    "\n",
    "To check model's performance with optimized hyperparameter, user can print R-Squared score"
   ]
  },
  {
   "cell_type": "code",
   "execution_count": 37,
   "id": "09bc1031-82ae-4774-bec6-e60baecb2fd2",
   "metadata": {},
   "outputs": [],
   "source": [
    "def tester(grid_object):\n",
    "    test_labels = np.expm1(y_test)\n",
    "    test_pred = np.expm1(grid_object.best_estimator_.predict(X_test))\n",
    "    r2_t = r2_score(test_labels, test_pred)\n",
    "    return r2_t"
   ]
  },
  {
   "cell_type": "code",
   "execution_count": 38,
   "id": "653390fe-de9e-4bf3-964f-ab666eb731d8",
   "metadata": {},
   "outputs": [
    {
     "name": "stdout",
     "output_type": "stream",
     "text": [
      "0.8845023467262478\n"
     ]
    }
   ],
   "source": [
    "# Optimized Extra Tree Regressor\n",
    "\n",
    "print(tester(grid_etr))"
   ]
  },
  {
   "cell_type": "code",
   "execution_count": 39,
   "id": "92e41fbe-a4dd-48e8-bb30-b54f43829ad7",
   "metadata": {},
   "outputs": [
    {
     "name": "stdout",
     "output_type": "stream",
     "text": [
      "0.8500173945354903\n"
     ]
    }
   ],
   "source": [
    "# Optimized RandomForest Regressor\n",
    "\n",
    "print(tester(grid_rf))"
   ]
  },
  {
   "cell_type": "code",
   "execution_count": 40,
   "id": "0abad4e8-153e-44df-9caf-7b3e520d5194",
   "metadata": {},
   "outputs": [
    {
     "name": "stdout",
     "output_type": "stream",
     "text": [
      "0.8425996234656218\n"
     ]
    }
   ],
   "source": [
    "# Optimized XGBoost Regressor\n",
    "\n",
    "print(tester(grid_xgbr))"
   ]
  },
  {
   "cell_type": "code",
   "execution_count": null,
   "id": "5b8e3eb5-dabe-417b-9783-eec05ce6fda4",
   "metadata": {},
   "outputs": [],
   "source": []
  }
 ],
 "metadata": {
  "kernelspec": {
   "display_name": "Python 3 (ipykernel)",
   "language": "python",
   "name": "python3"
  },
  "language_info": {
   "codemirror_mode": {
    "name": "ipython",
    "version": 3
   },
   "file_extension": ".py",
   "mimetype": "text/x-python",
   "name": "python",
   "nbconvert_exporter": "python",
   "pygments_lexer": "ipython3",
   "version": "3.11.5"
  }
 },
 "nbformat": 4,
 "nbformat_minor": 5
}
